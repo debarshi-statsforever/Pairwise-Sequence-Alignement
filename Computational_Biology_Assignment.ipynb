{
  "nbformat": 4,
  "nbformat_minor": 0,
  "metadata": {
    "colab": {
      "provenance": [],
      "collapsed_sections": []
    },
    "kernelspec": {
      "name": "ir",
      "display_name": "R"
    },
    "language_info": {
      "name": "R"
    }
  },
  "cells": [
    {
      "cell_type": "markdown",
      "source": [
        "# **Pairwise Sequence Alignment** \n",
        "\n",
        "---\n",
        "\n"
      ],
      "metadata": {
        "id": "xNJlG8Dc2sS_"
      }
    },
    {
      "cell_type": "markdown",
      "source": [
        "We will write the code of Smith Waterman Algorithm (for local alignment) and Needleman Wunsch Algorithm (for global alignment)."
      ],
      "metadata": {
        "id": "uGr7cmfR2XSF"
      }
    },
    {
      "cell_type": "markdown",
      "source": [
        "We start with the Smith Waterman Algorithm since it's traceback is simpler."
      ],
      "metadata": {
        "id": "IRWkSEWm29nZ"
      }
    },
    {
      "cell_type": "code",
      "source": [
        "sw=function (s1,s2,match,mismatch,gap)\n",
        "{\n",
        "  stopifnot(gap <= 0) #user check\n",
        "  stopifnot(mismatch <= 0) #user check\n",
        "  stopifnot(match >= 0) # user check\n",
        "  l1 = nchar(s1)\n",
        "  l2 = nchar(s2)\n",
        "  s1 = unlist(strsplit(s1, split = \"\")) \n",
        "  s2 = unlist(strsplit(s2, split = \"\"))\n",
        "  F1 = matrix(0, nrow = l1 + 1, ncol = l2 + 1)\n",
        "  rownames(F1) = c(\" \", s1)\n",
        "  colnames(F1) = c(\" \", s2)\n",
        "  F1[1, ] = cumsum(rep(0,l2+1)) #1st row fill\n",
        "  F1[, 1] = cumsum( rep(0,l1+1)) # 1st col fill\n",
        "  D = matrix(list(), nrow = l1 + 1, ncol = l2 + 1)\n",
        "  rownames(D) = c(\" \", s1)\n",
        "  colnames(D) = c(\" \", s2)\n",
        "  D[1, ] = rep(\"horiz\")\n",
        "  D[, 1] = rep(\"vertic\")\n",
        "  type = c(\"diag\", \"horiz\", \"vertic\")\n",
        "  for (i in 2:(l1 + 1)) {\n",
        "    for (j in 2:(l2 + 1)) {\n",
        "      horiz = F1[i, j - 1] + gap\n",
        "      vertic = F1[i - 1, j] + gap\n",
        "      diag = ifelse(rownames(F1)[i] == colnames(F1)[j], \n",
        "                    F1[i -1, j - 1] + match, F1[i - 1, j - 1] + mismatch)\n",
        "      entry=c(diag, horiz, vertic)\n",
        "      F1[i, j] = max(0,diag, horiz, vertic) #entries of F matrix (F means False value in R hence I used the symbol F1)\n",
        "      D[[i, j]] = type[which(entry == max(entry))] #entries of direction matrix\n",
        "    }\n",
        "  }\n",
        "  #optimal sequences:\n",
        "  df = data.frame()\n",
        "  s = NULL\n",
        "  for (i in 1:(l1+1)) {\n",
        "    for (j in 1:(l2+1)) {\n",
        "      if(F1[i,j] == max(F1)) df = rbind(c(i,j,\"\",\"\"),df)#get the maximum value\n",
        "    }\n",
        "  } #trace all possible alignments\n",
        "  while (dim(df)[1]>0) {\n",
        "    path = df[1,]\n",
        "    df = df[-1,]\n",
        "    if(as.numeric(path[1])==1 && as.numeric(path[2])==1){\n",
        "      s=rbind(s,c(path[3],path[4]))\n",
        "    }\n",
        "    else{\n",
        "      initz = D[[as.numeric(path[1]),as.numeric(path[2])]]\n",
        "      if(\"diag\" %in% initz){\n",
        "        df = rbind(c(as.numeric(path[1])-1,as.numeric(path[2])-1,\n",
        "                        paste(rownames(F1)[as.numeric(path[1])],path[3],sep=\"\"),\n",
        "                        paste(colnames(F1)[as.numeric(path[2])],path[4],sep=\"\")),\n",
        "                      df)\n",
        "      }\n",
        "      if(\"horiz\" %in% initz){\n",
        "        df = rbind(c(as.numeric(path[1]),as.numeric(path[2])-1,\n",
        "                        paste(\"-\",path[3],sep=\"\"),paste(colnames(F1)\n",
        "                                                        [as.numeric(path[2])],path[4],sep=\"\")),df)\n",
        "      }\n",
        "      if(\"vertic\" %in% initz){\n",
        "        df = rbind(c(as.numeric(path[1])-1,as.numeric(path[2]),\n",
        "                        paste(rownames(F1)[as.numeric(path[1])],path[3],sep=\"\"),\n",
        "                        paste(\"-\",path[4],sep=\"\")),df)\n",
        "      }\n",
        "    }\n",
        "  }\n",
        "  colnames(s)<-c(\"S1\",\"S2\")\n",
        "  return(list(aligned_seqs = s,score = max(F1),\n",
        "              score_matrix = F1, direction_matrix = D))\n",
        "}\n",
        "\n"
      ],
      "metadata": {
        "id": "AAKRtJ3rAKpD"
      },
      "execution_count": 4,
      "outputs": []
    },
    {
      "cell_type": "markdown",
      "source": [
        "Code is complete, now let us take two pais of simple sequences to verify it's correctness.I deliberately take the sequences such that it is quite intuitve to guess the alignments."
      ],
      "metadata": {
        "id": "3rEor8yK4HwT"
      }
    },
    {
      "cell_type": "code",
      "source": [
        "sw(\"ABCDABC\",\"ABC\",2,-1,-5)$aligned_seqs"
      ],
      "metadata": {
        "colab": {
          "base_uri": "https://localhost:8080/",
          "height": 161
        },
        "id": "uzQV6kWCBAfg",
        "outputId": "35c38de4-6be9-4084-fea6-3fed365bf5ac"
      },
      "execution_count": 5,
      "outputs": [
        {
          "output_type": "display_data",
          "data": {
            "text/html": [
              "<table class=\"dataframe\">\n",
              "<caption>A matrix: 2 × 2</caption>\n",
              "<thead>\n",
              "\t<tr><th scope=col>S1</th><th scope=col>S2</th></tr>\n",
              "\t<tr><th scope=col>&lt;chr&gt;</th><th scope=col>&lt;chr&gt;</th><th scope=col>&lt;chr&gt;</th><th scope=col>&lt;chr&gt;</th></tr>\n",
              "</thead>\n",
              "<tbody>\n",
              "\t<tr><td>ABCDABC</td><td>----ABC</td></tr>\n",
              "\t<tr><td>ABC</td><td>ABC</td></tr>\n",
              "</tbody>\n",
              "</table>\n"
            ],
            "text/markdown": "\nA matrix: 2 × 2\n\n| S1 &lt;chr&gt; | S2 &lt;chr&gt; | S1 &lt;chr&gt; | S2 &lt;chr&gt; |\n|---|---|\n| ABCDABC | ----ABC |\n| ABC | ABC |\n\n",
            "text/latex": "A matrix: 2 × 2\n\\begin{tabular}{ll}\n S1 & S2\\\\\n <chr> & <chr> & <chr> & <chr>\\\\\n\\hline\n\t ABCDABC & ----ABC\\\\\n\t ABC & ABC\\\\\n\\end{tabular}\n",
            "text/plain": [
              "     S1      S2     \n",
              "[1,] ABCDABC ----ABC\n",
              "[2,] ABC     ABC    "
            ]
          },
          "metadata": {}
        }
      ]
    },
    {
      "cell_type": "code",
      "source": [
        "sw(\"ATGCATGCATGC\",\"ATCTGC\",1,-1,-1)$aligned_seqs"
      ],
      "metadata": {
        "colab": {
          "base_uri": "https://localhost:8080/",
          "height": 161
        },
        "id": "j224Zuyy36Km",
        "outputId": "0ceaa717-140c-4e8e-9219-794e1aef09fb"
      },
      "execution_count": 7,
      "outputs": [
        {
          "output_type": "display_data",
          "data": {
            "text/html": [
              "<table class=\"dataframe\">\n",
              "<caption>A matrix: 2 × 2</caption>\n",
              "<thead>\n",
              "\t<tr><th scope=col>S1</th><th scope=col>S2</th></tr>\n",
              "\t<tr><th scope=col>&lt;chr&gt;</th><th scope=col>&lt;chr&gt;</th><th scope=col>&lt;chr&gt;</th><th scope=col>&lt;chr&gt;</th></tr>\n",
              "</thead>\n",
              "<tbody>\n",
              "\t<tr><td>ATGCATGCATGC</td><td>----AT-C-TGC</td></tr>\n",
              "\t<tr><td>ATGCATGC</td><td>AT-C-TGC</td></tr>\n",
              "</tbody>\n",
              "</table>\n"
            ],
            "text/markdown": "\nA matrix: 2 × 2\n\n| S1 &lt;chr&gt; | S2 &lt;chr&gt; | S1 &lt;chr&gt; | S2 &lt;chr&gt; |\n|---|---|\n| ATGCATGCATGC | ----AT-C-TGC |\n| ATGCATGC | AT-C-TGC |\n\n",
            "text/latex": "A matrix: 2 × 2\n\\begin{tabular}{ll}\n S1 & S2\\\\\n <chr> & <chr> & <chr> & <chr>\\\\\n\\hline\n\t ATGCATGCATGC & ----AT-C-TGC\\\\\n\t ATGCATGC & AT-C-TGC\\\\\n\\end{tabular}\n",
            "text/plain": [
              "     S1           S2          \n",
              "[1,] ATGCATGCATGC ----AT-C-TGC\n",
              "[2,] ATGCATGC     AT-C-TGC    "
            ]
          },
          "metadata": {}
        }
      ]
    },
    {
      "cell_type": "markdown",
      "source": [
        "We proceed similarly, hence not writing all the comments, only changes are in the extra 0 of smith waterman which is not here and the traceback starts differently."
      ],
      "metadata": {
        "id": "xZVvYvkH4rTh"
      }
    },
    {
      "cell_type": "code",
      "source": [
        "nw=function (s1,s2,match,mismatch,gap)\n",
        "{\n",
        "  stopifnot(gap <= 0) \n",
        "  stopifnot(mismatch <= 0) \n",
        "  stopifnot(match >= 0) \n",
        "  l1 = nchar(s1)\n",
        "  l2 = nchar(s2)\n",
        "  s1 = unlist(strsplit(s1, split = \"\")) \n",
        "  s2 = unlist(strsplit(s2, split = \"\"))\n",
        "  F1 = matrix(0, nrow = l1 + 1, ncol = l2 + 1)\n",
        "  rownames(F1) = c(\" \", s1)\n",
        "  colnames(F1) = c(\" \", s2)\n",
        "  F1[1, ] = cumsum(c(0, rep(gap, l2))) \n",
        "  F1[, 1] = cumsum(c(0, rep(gap, l1))) \n",
        "  D = matrix(list(), l1 + 1, l2 + 1)\n",
        "  rownames(D) = c(\" \", s1)\n",
        "  colnames(D) = c(\" \", s2)\n",
        "  D[1, ] = rep(\"horiz\")\n",
        "  D[, 1] = rep(\"vertic\")\n",
        "  type = c(\"diag\", \"horiz\", \"vertic\")\n",
        "  for (i in 2:(l1 + 1)) {\n",
        "    for (j in 2:(l2 + 1)) {\n",
        "      horiz = F1[i, j - 1] + gap\n",
        "      vertic = F1[i - 1, j] + gap\n",
        "      diag = ifelse(rownames(F1)[i] == colnames(F1)[j], \n",
        "                    F1[i -1, j - 1] + match, F1[i - 1, j - 1] + mismatch)\n",
        "      entry=c(diag, horiz, vertic)\n",
        "      F1[i, j] = max(diag, horiz, vertic) #no zero\n",
        "      D[[i, j]] = type[which(entry == max(entry))]\n",
        "    }\n",
        "  }\n",
        "\n",
        "  df = data.frame()\n",
        "  s = NULL #traceback from last element not max\n",
        "  df = rbind(c(l1+1,l2+1,\"\",\"\"),df)\n",
        "  while (dim(df)[1]>0) {\n",
        "    path = df[1,]\n",
        "    df = df[-1,]\n",
        "    if(as.numeric(path[1])==1 && as.numeric(path[2])==1){\n",
        "      s=rbind(s,c(path[3],path[4]))\n",
        "    }\n",
        "    else{\n",
        "      initz = D[[as.numeric(path[1]),as.numeric(path[2])]]\n",
        "      if(\"diag\" %in% initz){\n",
        "        df = rbind(c(as.numeric(path[1])-1,as.numeric(path[2])-1,\n",
        "                        paste(rownames(F1)[as.numeric(path[1])],path[3],sep=\"\"),\n",
        "                        paste(colnames(F1)[as.numeric(path[2])],path[4],sep=\"\")),\n",
        "                      df)\n",
        "      }\n",
        "      if(\"horiz\" %in% initz){\n",
        "        df = rbind(c(as.numeric(path[1]),as.numeric(path[2])-1,\n",
        "                        paste(\"-\",path[3],sep=\"\"),paste(colnames(F1)\n",
        "                                                        [as.numeric(path[2])],path[4],sep=\"\")),df)\n",
        "      }\n",
        "      if(\"vertic\" %in% initz){\n",
        "        df = rbind(c(as.numeric(path[1])-1,as.numeric(path[2]),\n",
        "                        paste(rownames(F1)[as.numeric(path[1])],path[3],sep=\"\"),\n",
        "                        paste(\"-\",path[4],sep=\"\")),df)\n",
        "      }\n",
        "    }\n",
        "  }\n",
        "  colnames(s)<-c(\"S1\",\"S2\")\n",
        "  return(list(aligned_seqs = s,score = F1[nrow(F1), ncol(F1)],\n",
        "              score_matrix = F1, movement_matrix = D))\n",
        "}"
      ],
      "metadata": {
        "id": "kEky_C2-17fN"
      },
      "execution_count": 8,
      "outputs": []
    },
    {
      "cell_type": "code",
      "source": [
        "nw(\"FMDTPLNE\",\"FKHMEDPLE\",1,-2,-2)$aligned_seqs"
      ],
      "metadata": {
        "colab": {
          "base_uri": "https://localhost:8080/",
          "height": 129
        },
        "id": "O_knSa9I2Kdk",
        "outputId": "8c0eaa5a-9f47-48e6-f05a-fb4c5591cc01"
      },
      "execution_count": 9,
      "outputs": [
        {
          "output_type": "display_data",
          "data": {
            "text/html": [
              "<table class=\"dataframe\">\n",
              "<caption>A matrix: 1 × 2</caption>\n",
              "<thead>\n",
              "\t<tr><th scope=col>S1</th><th scope=col>S2</th></tr>\n",
              "\t<tr><th scope=col>&lt;chr&gt;</th><th scope=col>&lt;chr&gt;</th></tr>\n",
              "</thead>\n",
              "<tbody>\n",
              "\t<tr><td>F--M-DTPLNE</td><td>FKHMED-PL-E</td></tr>\n",
              "</tbody>\n",
              "</table>\n"
            ],
            "text/markdown": "\nA matrix: 1 × 2\n\n| S1 &lt;chr&gt; | S2 &lt;chr&gt; |\n|---|---|\n| F--M-DTPLNE | FKHMED-PL-E |\n\n",
            "text/latex": "A matrix: 1 × 2\n\\begin{tabular}{ll}\n S1 & S2\\\\\n <chr> & <chr>\\\\\n\\hline\n\t F--M-DTPLNE & FKHMED-PL-E\\\\\n\\end{tabular}\n",
            "text/plain": [
              "     S1          S2         \n",
              "[1,] F--M-DTPLNE FKHMED-PL-E"
            ]
          },
          "metadata": {}
        }
      ]
    },
    {
      "cell_type": "markdown",
      "source": [
        "Oops! just one optimal alignment, take two other choices."
      ],
      "metadata": {
        "id": "ijfQ-zMI5N50"
      }
    },
    {
      "cell_type": "code",
      "source": [
        "nw(\"ATGCATGCATGC\",\"ATCTGC\",1,-1,-1)$aligned_seqs"
      ],
      "metadata": {
        "colab": {
          "base_uri": "https://localhost:8080/",
          "height": 318
        },
        "id": "1UF_lDBj175h",
        "outputId": "837787fb-708d-4585-835f-312046873ce7"
      },
      "execution_count": 12,
      "outputs": [
        {
          "output_type": "display_data",
          "data": {
            "text/html": [
              "<table class=\"dataframe\">\n",
              "<caption>A matrix: 7 × 2</caption>\n",
              "<thead>\n",
              "\t<tr><th scope=col>S1</th><th scope=col>S2</th></tr>\n",
              "\t<tr><th scope=col>&lt;chr&gt;</th><th scope=col>&lt;chr&gt;</th><th scope=col>&lt;chr&gt;</th><th scope=col>&lt;chr&gt;</th><th scope=col>&lt;chr&gt;</th><th scope=col>&lt;chr&gt;</th><th scope=col>&lt;chr&gt;</th><th scope=col>&lt;chr&gt;</th><th scope=col>&lt;chr&gt;</th><th scope=col>&lt;chr&gt;</th><th scope=col>&lt;chr&gt;</th><th scope=col>&lt;chr&gt;</th><th scope=col>&lt;chr&gt;</th><th scope=col>&lt;chr&gt;</th></tr>\n",
              "</thead>\n",
              "<tbody>\n",
              "\t<tr><td>ATGCATGCATGC</td><td>AT-C-TGC----</td></tr>\n",
              "\t<tr><td>ATGCATGCATGC</td><td>AT-C-TG----C</td></tr>\n",
              "\t<tr><td>ATGCATGCATGC</td><td>AT-C-T----GC</td></tr>\n",
              "\t<tr><td>ATGCATGCATGC</td><td>AT-C-----TGC</td></tr>\n",
              "\t<tr><td>ATGCATGCATGC</td><td>AT-----C-TGC</td></tr>\n",
              "\t<tr><td>ATGCATGCATGC</td><td>A----T-C-TGC</td></tr>\n",
              "\t<tr><td>ATGCATGCATGC</td><td>----AT-C-TGC</td></tr>\n",
              "</tbody>\n",
              "</table>\n"
            ],
            "text/markdown": "\nA matrix: 7 × 2\n\n| S1 &lt;chr&gt; | S2 &lt;chr&gt; | S1 &lt;chr&gt; | S2 &lt;chr&gt; | S1 &lt;chr&gt; | S2 &lt;chr&gt; | S1 &lt;chr&gt; | S2 &lt;chr&gt; | S1 &lt;chr&gt; | S2 &lt;chr&gt; | S1 &lt;chr&gt; | S2 &lt;chr&gt; | S1 &lt;chr&gt; | S2 &lt;chr&gt; |\n|---|---|\n| ATGCATGCATGC | AT-C-TGC---- |\n| ATGCATGCATGC | AT-C-TG----C |\n| ATGCATGCATGC | AT-C-T----GC |\n| ATGCATGCATGC | AT-C-----TGC |\n| ATGCATGCATGC | AT-----C-TGC |\n| ATGCATGCATGC | A----T-C-TGC |\n| ATGCATGCATGC | ----AT-C-TGC |\n\n",
            "text/latex": "A matrix: 7 × 2\n\\begin{tabular}{ll}\n S1 & S2\\\\\n <chr> & <chr> & <chr> & <chr> & <chr> & <chr> & <chr> & <chr> & <chr> & <chr> & <chr> & <chr> & <chr> & <chr>\\\\\n\\hline\n\t ATGCATGCATGC & AT-C-TGC----\\\\\n\t ATGCATGCATGC & AT-C-TG----C\\\\\n\t ATGCATGCATGC & AT-C-T----GC\\\\\n\t ATGCATGCATGC & AT-C-----TGC\\\\\n\t ATGCATGCATGC & AT-----C-TGC\\\\\n\t ATGCATGCATGC & A----T-C-TGC\\\\\n\t ATGCATGCATGC & ----AT-C-TGC\\\\\n\\end{tabular}\n",
            "text/plain": [
              "     S1           S2          \n",
              "[1,] ATGCATGCATGC AT-C-TGC----\n",
              "[2,] ATGCATGCATGC AT-C-TG----C\n",
              "[3,] ATGCATGCATGC AT-C-T----GC\n",
              "[4,] ATGCATGCATGC AT-C-----TGC\n",
              "[5,] ATGCATGCATGC AT-----C-TGC\n",
              "[6,] ATGCATGCATGC A----T-C-TGC\n",
              "[7,] ATGCATGCATGC ----AT-C-TGC"
            ]
          },
          "metadata": {}
        }
      ]
    },
    {
      "cell_type": "markdown",
      "source": [
        "**I have just printed the alignments, ingeneral the function returns the score matrix, direction matrix too, one can run it and see if interested**"
      ],
      "metadata": {
        "id": "j0PVzqIv5h8b"
      }
    }
  ]
}